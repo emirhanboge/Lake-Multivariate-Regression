{
 "cells": [
  {
   "cell_type": "code",
   "execution_count": 1,
   "metadata": {},
   "outputs": [
    {
     "data": {
      "text/html": [
       "<div>\n",
       "<style scoped>\n",
       "    .dataframe tbody tr th:only-of-type {\n",
       "        vertical-align: middle;\n",
       "    }\n",
       "\n",
       "    .dataframe tbody tr th {\n",
       "        vertical-align: top;\n",
       "    }\n",
       "\n",
       "    .dataframe thead th {\n",
       "        text-align: right;\n",
       "    }\n",
       "</style>\n",
       "<table border=\"1\" class=\"dataframe\">\n",
       "  <thead>\n",
       "    <tr style=\"text-align: right;\">\n",
       "      <th></th>\n",
       "      <th>Date</th>\n",
       "      <th>Station</th>\n",
       "      <th>Klorofil-a (µg/L)</th>\n",
       "      <th>X</th>\n",
       "      <th>Y</th>\n",
       "    </tr>\n",
       "  </thead>\n",
       "  <tbody>\n",
       "    <tr>\n",
       "      <th>0</th>\n",
       "      <td>2017-04-27</td>\n",
       "      <td>1</td>\n",
       "      <td>86.14</td>\n",
       "      <td>235</td>\n",
       "      <td>537</td>\n",
       "    </tr>\n",
       "    <tr>\n",
       "      <th>1</th>\n",
       "      <td>2017-04-27</td>\n",
       "      <td>2</td>\n",
       "      <td>61.24</td>\n",
       "      <td>280</td>\n",
       "      <td>427</td>\n",
       "    </tr>\n",
       "    <tr>\n",
       "      <th>2</th>\n",
       "      <td>2017-04-27</td>\n",
       "      <td>3</td>\n",
       "      <td>48.40</td>\n",
       "      <td>325</td>\n",
       "      <td>340</td>\n",
       "    </tr>\n",
       "    <tr>\n",
       "      <th>3</th>\n",
       "      <td>2017-04-27</td>\n",
       "      <td>4</td>\n",
       "      <td>39.70</td>\n",
       "      <td>345</td>\n",
       "      <td>263</td>\n",
       "    </tr>\n",
       "    <tr>\n",
       "      <th>4</th>\n",
       "      <td>2017-04-27</td>\n",
       "      <td>5</td>\n",
       "      <td>72.52</td>\n",
       "      <td>398</td>\n",
       "      <td>165</td>\n",
       "    </tr>\n",
       "  </tbody>\n",
       "</table>\n",
       "</div>"
      ],
      "text/plain": [
       "        Date  Station  Klorofil-a (µg/L)    X    Y\n",
       "0 2017-04-27        1              86.14  235  537\n",
       "1 2017-04-27        2              61.24  280  427\n",
       "2 2017-04-27        3              48.40  325  340\n",
       "3 2017-04-27        4              39.70  345  263\n",
       "4 2017-04-27        5              72.52  398  165"
      ]
     },
     "execution_count": 1,
     "metadata": {},
     "output_type": "execute_result"
    }
   ],
   "source": [
    "import pandas as pd\n",
    "\n",
    "features_filepath = '340_Veri_toplam_temiz.xlsx'\n",
    "feats_df = pd.read_excel(features_filepath)\n",
    "selected_feature = 'Klorofil-a (µg/L)'\n",
    "feats_df = feats_df[['Date', 'Station', selected_feature, 'X', 'Y']]\n",
    "feats_df.head()"
   ]
  },
  {
   "cell_type": "code",
   "execution_count": 2,
   "metadata": {},
   "outputs": [
    {
     "name": "stdout",
     "output_type": "stream",
     "text": [
      "Train % 0.6764705882352942 | Test % 0.3235294117647059\n"
     ]
    }
   ],
   "source": [
    "train_df = feats_df[feats_df['Date'] < '2019-01-01']\n",
    "test_df = feats_df[feats_df['Date'] >= '2019-01-01']\n",
    "print(f'Train % {len(train_df)/len(feats_df)} | Test % {len(test_df)/len(feats_df)}')"
   ]
  },
  {
   "cell_type": "code",
   "execution_count": 5,
   "metadata": {},
   "outputs": [
    {
     "name": "stdout",
     "output_type": "stream",
     "text": [
      "R2 Score: -0.7079576810646815\n"
     ]
    }
   ],
   "source": [
    "# Linear Regression\n",
    "from sklearn.linear_model import LinearRegression\n",
    "from sklearn.metrics import r2_score\n",
    "\n",
    "lr = LinearRegression()\n",
    "lr.fit(train_df[['X', 'Y']], train_df[selected_feature])\n",
    "preds = lr.predict(test_df[['X', 'Y']])\n",
    "print(f'R2 Score: {r2_score(test_df[selected_feature], preds)}')"
   ]
  },
  {
   "cell_type": "code",
   "execution_count": 8,
   "metadata": {},
   "outputs": [
    {
     "name": "stdout",
     "output_type": "stream",
     "text": [
      "R2 Score: -0.7253844356770127\n"
     ]
    }
   ],
   "source": [
    "# Polynomial Regression\n",
    "from sklearn.preprocessing import PolynomialFeatures\n",
    "from sklearn.pipeline import make_pipeline\n",
    "\n",
    "poly = PolynomialFeatures(degree=2)\n",
    "poly_lr = make_pipeline(poly, LinearRegression())\n",
    "poly_lr.fit(train_df[['X', 'Y']], train_df[selected_feature])\n",
    "preds = poly_lr.predict(test_df[['X', 'Y']])\n",
    "print(f'R2 Score: {r2_score(test_df[selected_feature], preds)}')"
   ]
  },
  {
   "cell_type": "code",
   "execution_count": 9,
   "metadata": {},
   "outputs": [
    {
     "name": "stdout",
     "output_type": "stream",
     "text": [
      "R2 Score: -0.7169811593544528\n"
     ]
    }
   ],
   "source": [
    "# Random Forest Regression\n",
    "from sklearn.ensemble import RandomForestRegressor\n",
    "\n",
    "rf = RandomForestRegressor()\n",
    "rf.fit(train_df[['X', 'Y']], train_df[selected_feature])\n",
    "preds = rf.predict(test_df[['X', 'Y']])\n",
    "print(f'R2 Score: {r2_score(test_df[selected_feature], preds)}')"
   ]
  },
  {
   "cell_type": "code",
   "execution_count": 10,
   "metadata": {},
   "outputs": [
    {
     "name": "stdout",
     "output_type": "stream",
     "text": [
      "R2 Score: -0.7393054858042887\n"
     ]
    }
   ],
   "source": [
    "# Decision Tree Regression\n",
    "from sklearn.tree import DecisionTreeRegressor\n",
    "\n",
    "dt = DecisionTreeRegressor()\n",
    "dt.fit(train_df[['X', 'Y']], train_df[selected_feature])\n",
    "preds = dt.predict(test_df[['X', 'Y']])\n",
    "print(f'R2 Score: {r2_score(test_df[selected_feature], preds)}')"
   ]
  }
 ],
 "metadata": {
  "kernelspec": {
   "display_name": "dev-ai",
   "language": "python",
   "name": "python3"
  },
  "language_info": {
   "codemirror_mode": {
    "name": "ipython",
    "version": 3
   },
   "file_extension": ".py",
   "mimetype": "text/x-python",
   "name": "python",
   "nbconvert_exporter": "python",
   "pygments_lexer": "ipython3",
   "version": "3.8.16"
  },
  "orig_nbformat": 4
 },
 "nbformat": 4,
 "nbformat_minor": 2
}
